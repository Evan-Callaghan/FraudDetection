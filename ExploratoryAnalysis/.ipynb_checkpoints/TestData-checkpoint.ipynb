{
 "cells": [
  {
   "cell_type": "markdown",
   "id": "0b9acd94-06b8-4191-8745-9467e3136cc4",
   "metadata": {},
   "source": [
    "## Initial exploratory analysis"
   ]
  },
  {
   "cell_type": "code",
   "execution_count": 65,
   "id": "d31d0eab-ddd7-48ee-a88a-5b9d0369afc3",
   "metadata": {},
   "outputs": [
    {
     "name": "stderr",
     "output_type": "stream",
     "text": [
      "/opt/anaconda3/lib/python3.8/site-packages/numpy/lib/arraysetops.py:583: FutureWarning: elementwise comparison failed; returning scalar instead, but in the future will perform elementwise comparison\n",
      "  mask |= (ar1 == a)\n"
     ]
    }
   ],
   "source": [
    "## importing libraries\n",
    "import pandas as pd\n",
    "import numpy as np\n",
    "import geopy.distance \n",
    "from dateutil.relativedelta import relativedelta\n",
    "from datetime import datetime\n",
    "import os\n",
    "\n",
    "## Here we set the directory to look up the folder containing the data\n",
    "os.chdir(\"/Users/gabrielmedeiros/Documents/OneDrive/Business analytics/DATA_445_Machine_Learning\")\n",
    "\n",
    "\n",
    "## Reading csv file, index_col = 0 makes the first column of the data to become the index of our pandas data frame\n",
    "test_data = pd.read_csv('fraudTest.csv', index_col = 0)\n",
    "\n",
    "train_data = pd.read_csv('fraudTrain.csv', index_col = 0)\n",
    "\n",
    "n = test_data.shape[0]"
   ]
  },
  {
   "cell_type": "markdown",
   "id": "ccadbe00-2112-40ba-a67b-c43dc6d9db80",
   "metadata": {},
   "source": [
    "## Head of Train data"
   ]
  },
  {
   "cell_type": "code",
   "execution_count": 66,
   "id": "047ffe1a-3ea7-4a0e-808d-0249f166de3d",
   "metadata": {},
   "outputs": [
    {
     "name": "stdout",
     "output_type": "stream",
     "text": [
      "(1296675, 22)\n"
     ]
    },
    {
     "data": {
      "text/html": [
       "<div>\n",
       "<style scoped>\n",
       "    .dataframe tbody tr th:only-of-type {\n",
       "        vertical-align: middle;\n",
       "    }\n",
       "\n",
       "    .dataframe tbody tr th {\n",
       "        vertical-align: top;\n",
       "    }\n",
       "\n",
       "    .dataframe thead th {\n",
       "        text-align: right;\n",
       "    }\n",
       "</style>\n",
       "<table border=\"1\" class=\"dataframe\">\n",
       "  <thead>\n",
       "    <tr style=\"text-align: right;\">\n",
       "      <th></th>\n",
       "      <th>trans_date_trans_time</th>\n",
       "      <th>cc_num</th>\n",
       "      <th>merchant</th>\n",
       "      <th>category</th>\n",
       "      <th>amt</th>\n",
       "      <th>first</th>\n",
       "      <th>last</th>\n",
       "      <th>gender</th>\n",
       "      <th>street</th>\n",
       "      <th>city</th>\n",
       "      <th>...</th>\n",
       "      <th>lat</th>\n",
       "      <th>long</th>\n",
       "      <th>city_pop</th>\n",
       "      <th>job</th>\n",
       "      <th>dob</th>\n",
       "      <th>trans_num</th>\n",
       "      <th>unix_time</th>\n",
       "      <th>merch_lat</th>\n",
       "      <th>merch_long</th>\n",
       "      <th>is_fraud</th>\n",
       "    </tr>\n",
       "  </thead>\n",
       "  <tbody>\n",
       "    <tr>\n",
       "      <th>0</th>\n",
       "      <td>2019-01-01 00:00:18</td>\n",
       "      <td>2703186189652095</td>\n",
       "      <td>fraud_Rippin, Kub and Mann</td>\n",
       "      <td>misc_net</td>\n",
       "      <td>4.97</td>\n",
       "      <td>Jennifer</td>\n",
       "      <td>Banks</td>\n",
       "      <td>F</td>\n",
       "      <td>561 Perry Cove</td>\n",
       "      <td>Moravian Falls</td>\n",
       "      <td>...</td>\n",
       "      <td>36.0788</td>\n",
       "      <td>-81.1781</td>\n",
       "      <td>3495</td>\n",
       "      <td>Psychologist, counselling</td>\n",
       "      <td>1988-03-09</td>\n",
       "      <td>0b242abb623afc578575680df30655b9</td>\n",
       "      <td>1325376018</td>\n",
       "      <td>36.011293</td>\n",
       "      <td>-82.048315</td>\n",
       "      <td>0</td>\n",
       "    </tr>\n",
       "    <tr>\n",
       "      <th>1</th>\n",
       "      <td>2019-01-01 00:00:44</td>\n",
       "      <td>630423337322</td>\n",
       "      <td>fraud_Heller, Gutmann and Zieme</td>\n",
       "      <td>grocery_pos</td>\n",
       "      <td>107.23</td>\n",
       "      <td>Stephanie</td>\n",
       "      <td>Gill</td>\n",
       "      <td>F</td>\n",
       "      <td>43039 Riley Greens Suite 393</td>\n",
       "      <td>Orient</td>\n",
       "      <td>...</td>\n",
       "      <td>48.8878</td>\n",
       "      <td>-118.2105</td>\n",
       "      <td>149</td>\n",
       "      <td>Special educational needs teacher</td>\n",
       "      <td>1978-06-21</td>\n",
       "      <td>1f76529f8574734946361c461b024d99</td>\n",
       "      <td>1325376044</td>\n",
       "      <td>49.159047</td>\n",
       "      <td>-118.186462</td>\n",
       "      <td>0</td>\n",
       "    </tr>\n",
       "    <tr>\n",
       "      <th>2</th>\n",
       "      <td>2019-01-01 00:00:51</td>\n",
       "      <td>38859492057661</td>\n",
       "      <td>fraud_Lind-Buckridge</td>\n",
       "      <td>entertainment</td>\n",
       "      <td>220.11</td>\n",
       "      <td>Edward</td>\n",
       "      <td>Sanchez</td>\n",
       "      <td>M</td>\n",
       "      <td>594 White Dale Suite 530</td>\n",
       "      <td>Malad City</td>\n",
       "      <td>...</td>\n",
       "      <td>42.1808</td>\n",
       "      <td>-112.2620</td>\n",
       "      <td>4154</td>\n",
       "      <td>Nature conservation officer</td>\n",
       "      <td>1962-01-19</td>\n",
       "      <td>a1a22d70485983eac12b5b88dad1cf95</td>\n",
       "      <td>1325376051</td>\n",
       "      <td>43.150704</td>\n",
       "      <td>-112.154481</td>\n",
       "      <td>0</td>\n",
       "    </tr>\n",
       "    <tr>\n",
       "      <th>3</th>\n",
       "      <td>2019-01-01 00:01:16</td>\n",
       "      <td>3534093764340240</td>\n",
       "      <td>fraud_Kutch, Hermiston and Farrell</td>\n",
       "      <td>gas_transport</td>\n",
       "      <td>45.00</td>\n",
       "      <td>Jeremy</td>\n",
       "      <td>White</td>\n",
       "      <td>M</td>\n",
       "      <td>9443 Cynthia Court Apt. 038</td>\n",
       "      <td>Boulder</td>\n",
       "      <td>...</td>\n",
       "      <td>46.2306</td>\n",
       "      <td>-112.1138</td>\n",
       "      <td>1939</td>\n",
       "      <td>Patent attorney</td>\n",
       "      <td>1967-01-12</td>\n",
       "      <td>6b849c168bdad6f867558c3793159a81</td>\n",
       "      <td>1325376076</td>\n",
       "      <td>47.034331</td>\n",
       "      <td>-112.561071</td>\n",
       "      <td>0</td>\n",
       "    </tr>\n",
       "    <tr>\n",
       "      <th>4</th>\n",
       "      <td>2019-01-01 00:03:06</td>\n",
       "      <td>375534208663984</td>\n",
       "      <td>fraud_Keeling-Crist</td>\n",
       "      <td>misc_pos</td>\n",
       "      <td>41.96</td>\n",
       "      <td>Tyler</td>\n",
       "      <td>Garcia</td>\n",
       "      <td>M</td>\n",
       "      <td>408 Bradley Rest</td>\n",
       "      <td>Doe Hill</td>\n",
       "      <td>...</td>\n",
       "      <td>38.4207</td>\n",
       "      <td>-79.4629</td>\n",
       "      <td>99</td>\n",
       "      <td>Dance movement psychotherapist</td>\n",
       "      <td>1986-03-28</td>\n",
       "      <td>a41d7549acf90789359a9aa5346dcb46</td>\n",
       "      <td>1325376186</td>\n",
       "      <td>38.674999</td>\n",
       "      <td>-78.632459</td>\n",
       "      <td>0</td>\n",
       "    </tr>\n",
       "  </tbody>\n",
       "</table>\n",
       "<p>5 rows × 22 columns</p>\n",
       "</div>"
      ],
      "text/plain": [
       "  trans_date_trans_time            cc_num                            merchant  \\\n",
       "0   2019-01-01 00:00:18  2703186189652095          fraud_Rippin, Kub and Mann   \n",
       "1   2019-01-01 00:00:44      630423337322     fraud_Heller, Gutmann and Zieme   \n",
       "2   2019-01-01 00:00:51    38859492057661                fraud_Lind-Buckridge   \n",
       "3   2019-01-01 00:01:16  3534093764340240  fraud_Kutch, Hermiston and Farrell   \n",
       "4   2019-01-01 00:03:06   375534208663984                 fraud_Keeling-Crist   \n",
       "\n",
       "        category     amt      first     last gender  \\\n",
       "0       misc_net    4.97   Jennifer    Banks      F   \n",
       "1    grocery_pos  107.23  Stephanie     Gill      F   \n",
       "2  entertainment  220.11     Edward  Sanchez      M   \n",
       "3  gas_transport   45.00     Jeremy    White      M   \n",
       "4       misc_pos   41.96      Tyler   Garcia      M   \n",
       "\n",
       "                         street            city  ...      lat      long  \\\n",
       "0                561 Perry Cove  Moravian Falls  ...  36.0788  -81.1781   \n",
       "1  43039 Riley Greens Suite 393          Orient  ...  48.8878 -118.2105   \n",
       "2      594 White Dale Suite 530      Malad City  ...  42.1808 -112.2620   \n",
       "3   9443 Cynthia Court Apt. 038         Boulder  ...  46.2306 -112.1138   \n",
       "4              408 Bradley Rest        Doe Hill  ...  38.4207  -79.4629   \n",
       "\n",
       "   city_pop                                job         dob  \\\n",
       "0      3495          Psychologist, counselling  1988-03-09   \n",
       "1       149  Special educational needs teacher  1978-06-21   \n",
       "2      4154        Nature conservation officer  1962-01-19   \n",
       "3      1939                    Patent attorney  1967-01-12   \n",
       "4        99     Dance movement psychotherapist  1986-03-28   \n",
       "\n",
       "                          trans_num   unix_time  merch_lat  merch_long  \\\n",
       "0  0b242abb623afc578575680df30655b9  1325376018  36.011293  -82.048315   \n",
       "1  1f76529f8574734946361c461b024d99  1325376044  49.159047 -118.186462   \n",
       "2  a1a22d70485983eac12b5b88dad1cf95  1325376051  43.150704 -112.154481   \n",
       "3  6b849c168bdad6f867558c3793159a81  1325376076  47.034331 -112.561071   \n",
       "4  a41d7549acf90789359a9aa5346dcb46  1325376186  38.674999  -78.632459   \n",
       "\n",
       "   is_fraud  \n",
       "0         0  \n",
       "1         0  \n",
       "2         0  \n",
       "3         0  \n",
       "4         0  \n",
       "\n",
       "[5 rows x 22 columns]"
      ]
     },
     "execution_count": 66,
     "metadata": {},
     "output_type": "execute_result"
    }
   ],
   "source": [
    "print(train_data.shape)\n",
    "train_data.head()"
   ]
  },
  {
   "cell_type": "markdown",
   "id": "ab1eb5ed-b259-4251-a667-f5fe9e1dd692",
   "metadata": {},
   "source": [
    "## Head of Test Data"
   ]
  },
  {
   "cell_type": "code",
   "execution_count": null,
   "id": "286b7a92-d1b3-414c-bbe6-3d97fccce467",
   "metadata": {},
   "outputs": [],
   "source": [
    "print(test_data.shape)\n",
    "test_data.head()"
   ]
  },
  {
   "cell_type": "markdown",
   "id": "92595e5a-8174-491e-acb3-f4649ffbcbfe",
   "metadata": {},
   "source": [
    "## Feature Engineering"
   ]
  },
  {
   "cell_type": "markdown",
   "id": "92543c8b-e024-41c7-8504-d738d9619248",
   "metadata": {},
   "source": [
    "#### Distance"
   ]
  },
  {
   "cell_type": "code",
   "execution_count": null,
   "id": "5fecd077-8821-4841-a5ce-8b4e17a7a54f",
   "metadata": {},
   "outputs": [],
   "source": [
    "## Here assign to n the amount of observations we have in the dataset\n",
    "n = test_data.shape[0]\n",
    "\n",
    "## Creating empty list to store the reuslts\n",
    "distance_to_append = []\n",
    "\n",
    "## Looping through each row an computing the distance between ?????????\n",
    "for i in range(0,n):\n",
    "    \n",
    "    ## Here we gather the lat and long from the ?????\n",
    "    coords_1 = (test_data['lat'][i], test_data['long'][i])\n",
    "    \n",
    "    ## Here we gather the lat and long from the ?????\n",
    "    coords_2 = (test_data['merch_lat'][i], test_data['merch_long'][i])\n",
    "    \n",
    "    ## Here we compute the disance in miles between the locations\n",
    "    distance_to_append.append(geopy.distance.geodesic(coords_1, coords_2).miles)\n",
    "\n",
    "## Adding results to our data set\n",
    "test_data['Distance'] = distance_to_append"
   ]
  },
  {
   "cell_type": "code",
   "execution_count": null,
   "id": "6867ffd6-575b-47d0-85a9-4c75b93d170c",
   "metadata": {},
   "outputs": [],
   "source": [
    "## Visualizing the results\n",
    "test_data['Distance'].head()"
   ]
  },
  {
   "cell_type": "markdown",
   "id": "19a03e69-6afe-4a43-80d9-14b7870f9be6",
   "metadata": {},
   "source": [
    "#### Age"
   ]
  },
  {
   "cell_type": "code",
   "execution_count": null,
   "id": "6b920b71-6edd-4437-a923-ce4e03b9b635",
   "metadata": {},
   "outputs": [],
   "source": [
    "## Creating empty list to store the resutls\n",
    "ages_to_append = []\n",
    "\n",
    "## Looping through each observation and computing the age of each individual from its DOB\n",
    "for i in range(0,n):\n",
    "    \n",
    "    ## Here we add the last date of this year\n",
    "    year_of_2021 = datetime.strptime('2021-12-31', \"%Y-%m-%d\")\n",
    "    \n",
    "    ## Here we call each DOB in the dataset\n",
    "    dob = datetime.strptime(test_data.dob[i], \"%Y-%m-%d\")\n",
    "    \n",
    "    ## Here we compute the ages\n",
    "    ages_to_append.append(relativedelta(year_of_2021, dob).years)\n",
    "\n",
    "## Adding results to our data set\n",
    "test_data['Age'] = ages_to_append"
   ]
  },
  {
   "cell_type": "code",
   "execution_count": null,
   "id": "8a601712-9f10-473b-8cff-62169cc56ae9",
   "metadata": {},
   "outputs": [],
   "source": [
    "## Visualizing the results\n",
    "test_data['Age'].head()"
   ]
  },
  {
   "cell_type": "markdown",
   "id": "9c585478-98bb-43f4-b996-6bde2830dd6d",
   "metadata": {},
   "source": [
    "#### Day of the week"
   ]
  },
  {
   "cell_type": "code",
   "execution_count": null,
   "id": "6db8f6f1-1fd9-4260-a1b1-8066876852e9",
   "metadata": {},
   "outputs": [],
   "source": [
    "dates = pd.to_datetime(test_data['trans_date_trans_time'])\n",
    "test_data['DayOfWeek'] = dates.dt.day_name()"
   ]
  },
  {
   "cell_type": "code",
   "execution_count": null,
   "id": "44cca2c9-069d-44a2-826d-80c0c891e894",
   "metadata": {},
   "outputs": [],
   "source": [
    "test_data['DayOfWeek'].head()"
   ]
  },
  {
   "cell_type": "markdown",
   "id": "ff1ee0af-9a56-41ba-99cc-6ff8d6dd53cd",
   "metadata": {},
   "source": [
    "#### Month of the year"
   ]
  },
  {
   "cell_type": "code",
   "execution_count": null,
   "id": "3a143ffa-2a11-4fea-9331-583ef7f67e7d",
   "metadata": {},
   "outputs": [],
   "source": [
    "months = pd.to_datetime(test_data['trans_date_trans_time'])\n",
    "test_data['Month'] = dates.dt.month"
   ]
  },
  {
   "cell_type": "markdown",
   "id": "bfd7daff-9372-43c0-ad1d-b88bddaca660",
   "metadata": {},
   "source": [
    "#### Hour of the day"
   ]
  },
  {
   "cell_type": "code",
   "execution_count": null,
   "id": "70f6e94d-0432-47c3-8591-82badf56d4da",
   "metadata": {},
   "outputs": [],
   "source": [
    "hour_of_the_day = []\n",
    "\n",
    "for i in range(0,n):\n",
    "    hour_of_the_day.append(datetime.strptime(test_data.trans_date_trans_time[i] ,\"%Y-%m-%d %H:%M:%S\").hour)\n",
    "    \n",
    "test_data['HourOfTheDay'] = hour_of_the_day"
   ]
  },
  {
   "cell_type": "code",
   "execution_count": null,
   "id": "73ee3102-310f-4b0f-9951-b9e905010145",
   "metadata": {},
   "outputs": [],
   "source": [
    "test_data['HourOfTheDay'].head()"
   ]
  },
  {
   "cell_type": "code",
   "execution_count": null,
   "id": "bbc1ec57-3ff0-4c43-a51c-b8efb3c8b993",
   "metadata": {
    "tags": []
   },
   "outputs": [],
   "source": [
    "Uses = pd.DataFrame(test_data['cc_num'].value_counts())\n",
    "\n",
    "Uses['cc_number2'] = Uses.index\n",
    "\n",
    "Uses = Uses.reset_index(drop = True)\n",
    "\n",
    "Uses.columns = ['TotalUses','cc_num']\n",
    "\n",
    "test_data = Uses.merge(test_data, on = 'cc_num', how = 'left')"
   ]
  },
  {
   "cell_type": "markdown",
   "id": "c87322fd-58f5-4aa9-a2ec-8a4f1dbe5588",
   "metadata": {},
   "source": [
    "## Difference in time by minutes for each card in the dataset"
   ]
  },
  {
   "cell_type": "code",
   "execution_count": 2,
   "id": "e307cfdf-5efd-4d16-92dd-c7fc5d3f1028",
   "metadata": {},
   "outputs": [],
   "source": [
    "new_time = []\n",
    "\n",
    "for i in range(0,n):\n",
    "    new_time.append(datetime.strptime(test_data.trans_date_trans_time[i] ,\"%Y-%m-%d %H:%M:%S\"))\n",
    "test_data['transformed_time'] = new_time"
   ]
  },
  {
   "cell_type": "code",
   "execution_count": null,
   "id": "547669f1-3158-4bf3-af22-460249cb6553",
   "metadata": {},
   "outputs": [],
   "source": [
    "test_data['DiffByCardTrans'] = test_data.groupby('cc_num')['transformed_time'].diff().apply(lambda x: x/np.timedelta64(1, 'm')).fillna(0).astype('int64')"
   ]
  },
  {
   "cell_type": "markdown",
   "id": "a9dc61aa-49b7-486d-b9ab-3033a0f81e35",
   "metadata": {},
   "source": [
    "## Average amount"
   ]
  },
  {
   "cell_type": "code",
   "execution_count": null,
   "id": "42fab15b-21c6-4b76-9eab-d0dcd98c23a6",
   "metadata": {},
   "outputs": [],
   "source": [
    "amt_per_category = pd.DataFrame(test_data.groupby(['cc_num','category'])['amt'].mean())\n",
    "\n",
    "amt_per_category['columns'] = amt_per_category.index\n",
    "\n",
    "amt_per_category = amt_per_category.reset_index().drop(columns = 'columns')\n",
    "\n",
    "amt_per_category.columns = ['cc_num','category','avg_by_category']\n",
    "\n",
    "test_data = amt_per_category.merge(test_data, on = 'cc_num', how = 'left')"
   ]
  },
  {
   "cell_type": "code",
   "execution_count": null,
   "id": "0481eb2c-e67a-47fb-b191-3627df22ecda",
   "metadata": {},
   "outputs": [],
   "source": [
    "avg_amt = pd.DataFrame(test_data.groupby('cc_num')['amt'].mean())\n",
    "\n",
    "avg_amt['columns'] = avg_amt.index\n",
    "\n",
    "avg_amt = avg_amt.reset_index().drop(columns = 'columns')\n",
    "\n",
    "avg_amt.columns = ['cc_num', 'avg_amt']\n",
    "\n",
    "test_data = avg_amt.merge(test_data, on = 'cc_num', how = 'left')"
   ]
  },
  {
   "cell_type": "code",
   "execution_count": 8,
   "id": "fe355e2c-bb4c-46e5-a7e9-c90a510ab610",
   "metadata": {},
   "outputs": [
    {
     "data": {
      "text/plain": [
       "cc_num\n",
       "60416207185           2020-12-31 05:16:50\n",
       "60422928733           2020-12-31 22:18:14\n",
       "60423098130           2020-12-31 01:48:00\n",
       "60427851591           2020-12-30 20:45:53\n",
       "60487002085           2020-12-31 21:41:57\n",
       "                              ...        \n",
       "4958589671582726883   2020-12-30 16:02:06\n",
       "4973530368125489546   2020-12-31 09:05:52\n",
       "4980323467523543940   2020-12-31 21:34:29\n",
       "4989847570577635369   2020-12-31 23:31:09\n",
       "4992346398065154184   2020-12-31 13:24:36\n",
       "Name: transformed_time, Length: 924, dtype: datetime64[ns]"
      ]
     },
     "execution_count": 8,
     "metadata": {},
     "output_type": "execute_result"
    }
   ],
   "source": [
    "test_data.groupby('cc_num')['transformed_time'].max()"
   ]
  },
  {
   "cell_type": "code",
   "execution_count": 55,
   "id": "88b5daa7-a0be-43cc-827b-80756e325bc7",
   "metadata": {
    "tags": []
   },
   "outputs": [],
   "source": [
    "temp_cc_time_max = pd.DataFrame(test_data.groupby('cc_num')['trans_date_trans_time'].max())\n",
    "temp_cc_time_min = pd.DataFrame(test_data.groupby('cc_num')['trans_date_trans_time'].min())\n",
    "\n",
    "\n",
    "\n",
    "temp_cc_time_max['columns'] = temp_cc_time_max.index\n",
    "temp_cc_time_min['columns'] = temp_cc_time_min.index\n",
    "\n",
    "temp_cc_time_max = temp_cc_time_max.reset_index().drop(columns = 'columns')\n",
    "temp_cc_time_min = temp_cc_time_min.reset_index().drop(columns = 'columns')\n",
    "\n",
    "\n",
    "temp_cc_time_max.columns = ['cc_num','max_date']\n",
    "temp_cc_time_min.columns = ['cc_num','min_date']\n",
    "\n",
    "\n",
    "test_data = temp_cc_time_max.merge(test_data, on = 'cc_num', how = 'left')\n",
    "test_data = temp_cc_time_min.merge(test_data, on = 'cc_num', how = 'left')"
   ]
  },
  {
   "cell_type": "code",
   "execution_count": 58,
   "id": "4baec54c-5ee8-48c5-8753-1461f47d397b",
   "metadata": {},
   "outputs": [],
   "source": [
    "min_dates = pd.to_datetime(test_data.min_date) \n",
    "max_dates = pd.to_datetime(test_data.max_date)\n",
    "\n",
    "diff_in_time = max_dates - min_dates\n",
    " \n",
    "temp_data = pd.DataFrame(diff_in_time)\n",
    " \n",
    "test_data['diff_first_last'] = temp_data.apply(lambda x: x/np.timedelta64(1, 'm')).fillna(0).astype('int64')"
   ]
  },
  {
   "cell_type": "code",
   "execution_count": 64,
   "id": "3df81adf-144f-4622-847b-fe06819326b8",
   "metadata": {},
   "outputs": [
    {
     "data": {
      "text/plain": [
       "count    555719.000000\n",
       "mean     277860.166098\n",
       "std        4778.937051\n",
       "min         995.000000\n",
       "25%      277797.000000\n",
       "50%      278186.000000\n",
       "75%      278394.000000\n",
       "max      278614.000000\n",
       "Name: diff_first_last, dtype: float64"
      ]
     },
     "execution_count": 64,
     "metadata": {},
     "output_type": "execute_result"
    }
   ],
   "source": [
    "test_data['diff_first_last'].describe()"
   ]
  },
  {
   "cell_type": "code",
   "execution_count": null,
   "id": "9fbd19be-1e6b-468e-8464-d946ef092423",
   "metadata": {},
   "outputs": [],
   "source": [
    "## Here we export the file containing all of the new feature to a csv file. \n",
    "#test_data.to_csv (\"/Users/gabrielmedeiros/Documents/OneDrive/Business analytics/DATA_445_Machine_Learning/FraudTestData.csv\", index = None, header=True)"
   ]
  }
 ],
 "metadata": {
  "kernelspec": {
   "display_name": "Python 3",
   "language": "python",
   "name": "python3"
  },
  "language_info": {
   "codemirror_mode": {
    "name": "ipython",
    "version": 3
   },
   "file_extension": ".py",
   "mimetype": "text/x-python",
   "name": "python",
   "nbconvert_exporter": "python",
   "pygments_lexer": "ipython3",
   "version": "3.8.8"
  },
  "toc-autonumbering": false,
  "toc-showcode": false,
  "toc-showmarkdowntxt": false
 },
 "nbformat": 4,
 "nbformat_minor": 5
}
