{
 "cells": [
  {
   "cell_type": "markdown",
   "id": "0b9acd94-06b8-4191-8745-9467e3136cc4",
   "metadata": {},
   "source": [
    "## Initial exploratory analysis"
   ]
  },
  {
   "cell_type": "code",
   "execution_count": 1,
   "id": "d31d0eab-ddd7-48ee-a88a-5b9d0369afc3",
   "metadata": {},
   "outputs": [
    {
     "name": "stderr",
     "output_type": "stream",
     "text": [
      "/opt/anaconda3/lib/python3.8/site-packages/numpy/lib/arraysetops.py:583: FutureWarning: elementwise comparison failed; returning scalar instead, but in the future will perform elementwise comparison\n",
      "  mask |= (ar1 == a)\n"
     ]
    }
   ],
   "source": [
    "## importing libraries\n",
    "import pandas as pd\n",
    "import numpy as np\n",
    "import geopy.distance \n",
    "from dateutil.relativedelta import relativedelta\n",
    "from datetime import datetime\n",
    "import os\n",
    "\n",
    "## Here we set the directory to look up the folder containing the data\n",
    "os.chdir(\"/Users/gabrielmedeiros/Documents/OneDrive/Business analytics/DATA_445_Machine_Learning\")\n",
    "\n",
    "\n",
    "## Reading csv file, index_col = 0 makes the first column of the data to become the index of our pandas data frame\n",
    "test_data = pd.read_csv('fraudTest.csv', index_col = 0)\n",
    "\n",
    "train_data = pd.read_csv('fraudTrain.csv', index_col = 0)"
   ]
  },
  {
   "cell_type": "markdown",
   "id": "ccadbe00-2112-40ba-a67b-c43dc6d9db80",
   "metadata": {},
   "source": [
    "## Head of Train data"
   ]
  },
  {
   "cell_type": "code",
   "execution_count": 2,
   "id": "047ffe1a-3ea7-4a0e-808d-0249f166de3d",
   "metadata": {},
   "outputs": [
    {
     "name": "stdout",
     "output_type": "stream",
     "text": [
      "(1296675, 22)\n"
     ]
    },
    {
     "data": {
      "text/html": [
       "<div>\n",
       "<style scoped>\n",
       "    .dataframe tbody tr th:only-of-type {\n",
       "        vertical-align: middle;\n",
       "    }\n",
       "\n",
       "    .dataframe tbody tr th {\n",
       "        vertical-align: top;\n",
       "    }\n",
       "\n",
       "    .dataframe thead th {\n",
       "        text-align: right;\n",
       "    }\n",
       "</style>\n",
       "<table border=\"1\" class=\"dataframe\">\n",
       "  <thead>\n",
       "    <tr style=\"text-align: right;\">\n",
       "      <th></th>\n",
       "      <th>trans_date_trans_time</th>\n",
       "      <th>cc_num</th>\n",
       "      <th>merchant</th>\n",
       "      <th>category</th>\n",
       "      <th>amt</th>\n",
       "      <th>first</th>\n",
       "      <th>last</th>\n",
       "      <th>gender</th>\n",
       "      <th>street</th>\n",
       "      <th>city</th>\n",
       "      <th>...</th>\n",
       "      <th>lat</th>\n",
       "      <th>long</th>\n",
       "      <th>city_pop</th>\n",
       "      <th>job</th>\n",
       "      <th>dob</th>\n",
       "      <th>trans_num</th>\n",
       "      <th>unix_time</th>\n",
       "      <th>merch_lat</th>\n",
       "      <th>merch_long</th>\n",
       "      <th>is_fraud</th>\n",
       "    </tr>\n",
       "  </thead>\n",
       "  <tbody>\n",
       "    <tr>\n",
       "      <th>0</th>\n",
       "      <td>2019-01-01 00:00:18</td>\n",
       "      <td>2703186189652095</td>\n",
       "      <td>fraud_Rippin, Kub and Mann</td>\n",
       "      <td>misc_net</td>\n",
       "      <td>4.97</td>\n",
       "      <td>Jennifer</td>\n",
       "      <td>Banks</td>\n",
       "      <td>F</td>\n",
       "      <td>561 Perry Cove</td>\n",
       "      <td>Moravian Falls</td>\n",
       "      <td>...</td>\n",
       "      <td>36.0788</td>\n",
       "      <td>-81.1781</td>\n",
       "      <td>3495</td>\n",
       "      <td>Psychologist, counselling</td>\n",
       "      <td>1988-03-09</td>\n",
       "      <td>0b242abb623afc578575680df30655b9</td>\n",
       "      <td>1325376018</td>\n",
       "      <td>36.011293</td>\n",
       "      <td>-82.048315</td>\n",
       "      <td>0</td>\n",
       "    </tr>\n",
       "    <tr>\n",
       "      <th>1</th>\n",
       "      <td>2019-01-01 00:00:44</td>\n",
       "      <td>630423337322</td>\n",
       "      <td>fraud_Heller, Gutmann and Zieme</td>\n",
       "      <td>grocery_pos</td>\n",
       "      <td>107.23</td>\n",
       "      <td>Stephanie</td>\n",
       "      <td>Gill</td>\n",
       "      <td>F</td>\n",
       "      <td>43039 Riley Greens Suite 393</td>\n",
       "      <td>Orient</td>\n",
       "      <td>...</td>\n",
       "      <td>48.8878</td>\n",
       "      <td>-118.2105</td>\n",
       "      <td>149</td>\n",
       "      <td>Special educational needs teacher</td>\n",
       "      <td>1978-06-21</td>\n",
       "      <td>1f76529f8574734946361c461b024d99</td>\n",
       "      <td>1325376044</td>\n",
       "      <td>49.159047</td>\n",
       "      <td>-118.186462</td>\n",
       "      <td>0</td>\n",
       "    </tr>\n",
       "    <tr>\n",
       "      <th>2</th>\n",
       "      <td>2019-01-01 00:00:51</td>\n",
       "      <td>38859492057661</td>\n",
       "      <td>fraud_Lind-Buckridge</td>\n",
       "      <td>entertainment</td>\n",
       "      <td>220.11</td>\n",
       "      <td>Edward</td>\n",
       "      <td>Sanchez</td>\n",
       "      <td>M</td>\n",
       "      <td>594 White Dale Suite 530</td>\n",
       "      <td>Malad City</td>\n",
       "      <td>...</td>\n",
       "      <td>42.1808</td>\n",
       "      <td>-112.2620</td>\n",
       "      <td>4154</td>\n",
       "      <td>Nature conservation officer</td>\n",
       "      <td>1962-01-19</td>\n",
       "      <td>a1a22d70485983eac12b5b88dad1cf95</td>\n",
       "      <td>1325376051</td>\n",
       "      <td>43.150704</td>\n",
       "      <td>-112.154481</td>\n",
       "      <td>0</td>\n",
       "    </tr>\n",
       "    <tr>\n",
       "      <th>3</th>\n",
       "      <td>2019-01-01 00:01:16</td>\n",
       "      <td>3534093764340240</td>\n",
       "      <td>fraud_Kutch, Hermiston and Farrell</td>\n",
       "      <td>gas_transport</td>\n",
       "      <td>45.00</td>\n",
       "      <td>Jeremy</td>\n",
       "      <td>White</td>\n",
       "      <td>M</td>\n",
       "      <td>9443 Cynthia Court Apt. 038</td>\n",
       "      <td>Boulder</td>\n",
       "      <td>...</td>\n",
       "      <td>46.2306</td>\n",
       "      <td>-112.1138</td>\n",
       "      <td>1939</td>\n",
       "      <td>Patent attorney</td>\n",
       "      <td>1967-01-12</td>\n",
       "      <td>6b849c168bdad6f867558c3793159a81</td>\n",
       "      <td>1325376076</td>\n",
       "      <td>47.034331</td>\n",
       "      <td>-112.561071</td>\n",
       "      <td>0</td>\n",
       "    </tr>\n",
       "    <tr>\n",
       "      <th>4</th>\n",
       "      <td>2019-01-01 00:03:06</td>\n",
       "      <td>375534208663984</td>\n",
       "      <td>fraud_Keeling-Crist</td>\n",
       "      <td>misc_pos</td>\n",
       "      <td>41.96</td>\n",
       "      <td>Tyler</td>\n",
       "      <td>Garcia</td>\n",
       "      <td>M</td>\n",
       "      <td>408 Bradley Rest</td>\n",
       "      <td>Doe Hill</td>\n",
       "      <td>...</td>\n",
       "      <td>38.4207</td>\n",
       "      <td>-79.4629</td>\n",
       "      <td>99</td>\n",
       "      <td>Dance movement psychotherapist</td>\n",
       "      <td>1986-03-28</td>\n",
       "      <td>a41d7549acf90789359a9aa5346dcb46</td>\n",
       "      <td>1325376186</td>\n",
       "      <td>38.674999</td>\n",
       "      <td>-78.632459</td>\n",
       "      <td>0</td>\n",
       "    </tr>\n",
       "  </tbody>\n",
       "</table>\n",
       "<p>5 rows × 22 columns</p>\n",
       "</div>"
      ],
      "text/plain": [
       "  trans_date_trans_time            cc_num                            merchant  \\\n",
       "0   2019-01-01 00:00:18  2703186189652095          fraud_Rippin, Kub and Mann   \n",
       "1   2019-01-01 00:00:44      630423337322     fraud_Heller, Gutmann and Zieme   \n",
       "2   2019-01-01 00:00:51    38859492057661                fraud_Lind-Buckridge   \n",
       "3   2019-01-01 00:01:16  3534093764340240  fraud_Kutch, Hermiston and Farrell   \n",
       "4   2019-01-01 00:03:06   375534208663984                 fraud_Keeling-Crist   \n",
       "\n",
       "        category     amt      first     last gender  \\\n",
       "0       misc_net    4.97   Jennifer    Banks      F   \n",
       "1    grocery_pos  107.23  Stephanie     Gill      F   \n",
       "2  entertainment  220.11     Edward  Sanchez      M   \n",
       "3  gas_transport   45.00     Jeremy    White      M   \n",
       "4       misc_pos   41.96      Tyler   Garcia      M   \n",
       "\n",
       "                         street            city  ...      lat      long  \\\n",
       "0                561 Perry Cove  Moravian Falls  ...  36.0788  -81.1781   \n",
       "1  43039 Riley Greens Suite 393          Orient  ...  48.8878 -118.2105   \n",
       "2      594 White Dale Suite 530      Malad City  ...  42.1808 -112.2620   \n",
       "3   9443 Cynthia Court Apt. 038         Boulder  ...  46.2306 -112.1138   \n",
       "4              408 Bradley Rest        Doe Hill  ...  38.4207  -79.4629   \n",
       "\n",
       "   city_pop                                job         dob  \\\n",
       "0      3495          Psychologist, counselling  1988-03-09   \n",
       "1       149  Special educational needs teacher  1978-06-21   \n",
       "2      4154        Nature conservation officer  1962-01-19   \n",
       "3      1939                    Patent attorney  1967-01-12   \n",
       "4        99     Dance movement psychotherapist  1986-03-28   \n",
       "\n",
       "                          trans_num   unix_time  merch_lat  merch_long  \\\n",
       "0  0b242abb623afc578575680df30655b9  1325376018  36.011293  -82.048315   \n",
       "1  1f76529f8574734946361c461b024d99  1325376044  49.159047 -118.186462   \n",
       "2  a1a22d70485983eac12b5b88dad1cf95  1325376051  43.150704 -112.154481   \n",
       "3  6b849c168bdad6f867558c3793159a81  1325376076  47.034331 -112.561071   \n",
       "4  a41d7549acf90789359a9aa5346dcb46  1325376186  38.674999  -78.632459   \n",
       "\n",
       "   is_fraud  \n",
       "0         0  \n",
       "1         0  \n",
       "2         0  \n",
       "3         0  \n",
       "4         0  \n",
       "\n",
       "[5 rows x 22 columns]"
      ]
     },
     "execution_count": 2,
     "metadata": {},
     "output_type": "execute_result"
    }
   ],
   "source": [
    "print(train_data.shape)\n",
    "train_data.head()"
   ]
  },
  {
   "cell_type": "markdown",
   "id": "ab1eb5ed-b259-4251-a667-f5fe9e1dd692",
   "metadata": {},
   "source": [
    "## Head of Test Data"
   ]
  },
  {
   "cell_type": "code",
   "execution_count": 4,
   "id": "286b7a92-d1b3-414c-bbe6-3d97fccce467",
   "metadata": {},
   "outputs": [
    {
     "name": "stdout",
     "output_type": "stream",
     "text": [
      "(555719, 22)\n"
     ]
    },
    {
     "data": {
      "text/html": [
       "<div>\n",
       "<style scoped>\n",
       "    .dataframe tbody tr th:only-of-type {\n",
       "        vertical-align: middle;\n",
       "    }\n",
       "\n",
       "    .dataframe tbody tr th {\n",
       "        vertical-align: top;\n",
       "    }\n",
       "\n",
       "    .dataframe thead th {\n",
       "        text-align: right;\n",
       "    }\n",
       "</style>\n",
       "<table border=\"1\" class=\"dataframe\">\n",
       "  <thead>\n",
       "    <tr style=\"text-align: right;\">\n",
       "      <th></th>\n",
       "      <th>trans_date_trans_time</th>\n",
       "      <th>cc_num</th>\n",
       "      <th>merchant</th>\n",
       "      <th>category</th>\n",
       "      <th>amt</th>\n",
       "      <th>first</th>\n",
       "      <th>last</th>\n",
       "      <th>gender</th>\n",
       "      <th>street</th>\n",
       "      <th>city</th>\n",
       "      <th>...</th>\n",
       "      <th>lat</th>\n",
       "      <th>long</th>\n",
       "      <th>city_pop</th>\n",
       "      <th>job</th>\n",
       "      <th>dob</th>\n",
       "      <th>trans_num</th>\n",
       "      <th>unix_time</th>\n",
       "      <th>merch_lat</th>\n",
       "      <th>merch_long</th>\n",
       "      <th>is_fraud</th>\n",
       "    </tr>\n",
       "  </thead>\n",
       "  <tbody>\n",
       "    <tr>\n",
       "      <th>0</th>\n",
       "      <td>2020-06-21 12:14:25</td>\n",
       "      <td>2291163933867244</td>\n",
       "      <td>fraud_Kirlin and Sons</td>\n",
       "      <td>personal_care</td>\n",
       "      <td>2.86</td>\n",
       "      <td>Jeff</td>\n",
       "      <td>Elliott</td>\n",
       "      <td>M</td>\n",
       "      <td>351 Darlene Green</td>\n",
       "      <td>Columbia</td>\n",
       "      <td>...</td>\n",
       "      <td>33.9659</td>\n",
       "      <td>-80.9355</td>\n",
       "      <td>333497</td>\n",
       "      <td>Mechanical engineer</td>\n",
       "      <td>1968-03-19</td>\n",
       "      <td>2da90c7d74bd46a0caf3777415b3ebd3</td>\n",
       "      <td>1371816865</td>\n",
       "      <td>33.986391</td>\n",
       "      <td>-81.200714</td>\n",
       "      <td>0</td>\n",
       "    </tr>\n",
       "    <tr>\n",
       "      <th>1</th>\n",
       "      <td>2020-06-21 12:14:33</td>\n",
       "      <td>3573030041201292</td>\n",
       "      <td>fraud_Sporer-Keebler</td>\n",
       "      <td>personal_care</td>\n",
       "      <td>29.84</td>\n",
       "      <td>Joanne</td>\n",
       "      <td>Williams</td>\n",
       "      <td>F</td>\n",
       "      <td>3638 Marsh Union</td>\n",
       "      <td>Altonah</td>\n",
       "      <td>...</td>\n",
       "      <td>40.3207</td>\n",
       "      <td>-110.4360</td>\n",
       "      <td>302</td>\n",
       "      <td>Sales professional, IT</td>\n",
       "      <td>1990-01-17</td>\n",
       "      <td>324cc204407e99f51b0d6ca0055005e7</td>\n",
       "      <td>1371816873</td>\n",
       "      <td>39.450498</td>\n",
       "      <td>-109.960431</td>\n",
       "      <td>0</td>\n",
       "    </tr>\n",
       "    <tr>\n",
       "      <th>2</th>\n",
       "      <td>2020-06-21 12:14:53</td>\n",
       "      <td>3598215285024754</td>\n",
       "      <td>fraud_Swaniawski, Nitzsche and Welch</td>\n",
       "      <td>health_fitness</td>\n",
       "      <td>41.28</td>\n",
       "      <td>Ashley</td>\n",
       "      <td>Lopez</td>\n",
       "      <td>F</td>\n",
       "      <td>9333 Valentine Point</td>\n",
       "      <td>Bellmore</td>\n",
       "      <td>...</td>\n",
       "      <td>40.6729</td>\n",
       "      <td>-73.5365</td>\n",
       "      <td>34496</td>\n",
       "      <td>Librarian, public</td>\n",
       "      <td>1970-10-21</td>\n",
       "      <td>c81755dbbbea9d5c77f094348a7579be</td>\n",
       "      <td>1371816893</td>\n",
       "      <td>40.495810</td>\n",
       "      <td>-74.196111</td>\n",
       "      <td>0</td>\n",
       "    </tr>\n",
       "    <tr>\n",
       "      <th>3</th>\n",
       "      <td>2020-06-21 12:15:15</td>\n",
       "      <td>3591919803438423</td>\n",
       "      <td>fraud_Haley Group</td>\n",
       "      <td>misc_pos</td>\n",
       "      <td>60.05</td>\n",
       "      <td>Brian</td>\n",
       "      <td>Williams</td>\n",
       "      <td>M</td>\n",
       "      <td>32941 Krystal Mill Apt. 552</td>\n",
       "      <td>Titusville</td>\n",
       "      <td>...</td>\n",
       "      <td>28.5697</td>\n",
       "      <td>-80.8191</td>\n",
       "      <td>54767</td>\n",
       "      <td>Set designer</td>\n",
       "      <td>1987-07-25</td>\n",
       "      <td>2159175b9efe66dc301f149d3d5abf8c</td>\n",
       "      <td>1371816915</td>\n",
       "      <td>28.812398</td>\n",
       "      <td>-80.883061</td>\n",
       "      <td>0</td>\n",
       "    </tr>\n",
       "    <tr>\n",
       "      <th>4</th>\n",
       "      <td>2020-06-21 12:15:17</td>\n",
       "      <td>3526826139003047</td>\n",
       "      <td>fraud_Johnston-Casper</td>\n",
       "      <td>travel</td>\n",
       "      <td>3.19</td>\n",
       "      <td>Nathan</td>\n",
       "      <td>Massey</td>\n",
       "      <td>M</td>\n",
       "      <td>5783 Evan Roads Apt. 465</td>\n",
       "      <td>Falmouth</td>\n",
       "      <td>...</td>\n",
       "      <td>44.2529</td>\n",
       "      <td>-85.0170</td>\n",
       "      <td>1126</td>\n",
       "      <td>Furniture designer</td>\n",
       "      <td>1955-07-06</td>\n",
       "      <td>57ff021bd3f328f8738bb535c302a31b</td>\n",
       "      <td>1371816917</td>\n",
       "      <td>44.959148</td>\n",
       "      <td>-85.884734</td>\n",
       "      <td>0</td>\n",
       "    </tr>\n",
       "  </tbody>\n",
       "</table>\n",
       "<p>5 rows × 22 columns</p>\n",
       "</div>"
      ],
      "text/plain": [
       "  trans_date_trans_time            cc_num  \\\n",
       "0   2020-06-21 12:14:25  2291163933867244   \n",
       "1   2020-06-21 12:14:33  3573030041201292   \n",
       "2   2020-06-21 12:14:53  3598215285024754   \n",
       "3   2020-06-21 12:15:15  3591919803438423   \n",
       "4   2020-06-21 12:15:17  3526826139003047   \n",
       "\n",
       "                               merchant        category    amt   first  \\\n",
       "0                 fraud_Kirlin and Sons   personal_care   2.86    Jeff   \n",
       "1                  fraud_Sporer-Keebler   personal_care  29.84  Joanne   \n",
       "2  fraud_Swaniawski, Nitzsche and Welch  health_fitness  41.28  Ashley   \n",
       "3                     fraud_Haley Group        misc_pos  60.05   Brian   \n",
       "4                 fraud_Johnston-Casper          travel   3.19  Nathan   \n",
       "\n",
       "       last gender                       street        city  ...      lat  \\\n",
       "0   Elliott      M            351 Darlene Green    Columbia  ...  33.9659   \n",
       "1  Williams      F             3638 Marsh Union     Altonah  ...  40.3207   \n",
       "2     Lopez      F         9333 Valentine Point    Bellmore  ...  40.6729   \n",
       "3  Williams      M  32941 Krystal Mill Apt. 552  Titusville  ...  28.5697   \n",
       "4    Massey      M     5783 Evan Roads Apt. 465    Falmouth  ...  44.2529   \n",
       "\n",
       "       long  city_pop                     job         dob  \\\n",
       "0  -80.9355    333497     Mechanical engineer  1968-03-19   \n",
       "1 -110.4360       302  Sales professional, IT  1990-01-17   \n",
       "2  -73.5365     34496       Librarian, public  1970-10-21   \n",
       "3  -80.8191     54767            Set designer  1987-07-25   \n",
       "4  -85.0170      1126      Furniture designer  1955-07-06   \n",
       "\n",
       "                          trans_num   unix_time  merch_lat  merch_long  \\\n",
       "0  2da90c7d74bd46a0caf3777415b3ebd3  1371816865  33.986391  -81.200714   \n",
       "1  324cc204407e99f51b0d6ca0055005e7  1371816873  39.450498 -109.960431   \n",
       "2  c81755dbbbea9d5c77f094348a7579be  1371816893  40.495810  -74.196111   \n",
       "3  2159175b9efe66dc301f149d3d5abf8c  1371816915  28.812398  -80.883061   \n",
       "4  57ff021bd3f328f8738bb535c302a31b  1371816917  44.959148  -85.884734   \n",
       "\n",
       "   is_fraud  \n",
       "0         0  \n",
       "1         0  \n",
       "2         0  \n",
       "3         0  \n",
       "4         0  \n",
       "\n",
       "[5 rows x 22 columns]"
      ]
     },
     "execution_count": 4,
     "metadata": {},
     "output_type": "execute_result"
    }
   ],
   "source": [
    "print(test_data.shape)\n",
    "test_data.head()"
   ]
  },
  {
   "cell_type": "markdown",
   "id": "92595e5a-8174-491e-acb3-f4649ffbcbfe",
   "metadata": {},
   "source": [
    "## Feature Engineering"
   ]
  },
  {
   "cell_type": "markdown",
   "id": "92543c8b-e024-41c7-8504-d738d9619248",
   "metadata": {},
   "source": [
    "#### Distance"
   ]
  },
  {
   "cell_type": "code",
   "execution_count": 5,
   "id": "5fecd077-8821-4841-a5ce-8b4e17a7a54f",
   "metadata": {},
   "outputs": [],
   "source": [
    "## Here assign to n the amount of observations we have in the dataset\n",
    "n = test_data.shape[0]\n",
    "\n",
    "## Creating empty list to store the reuslts\n",
    "distance_to_append = []\n",
    "\n",
    "## Looping through each row an computing the distance between ?????????\n",
    "for i in range(0,n):\n",
    "    \n",
    "    ## Here we gather the lat and long from the ?????\n",
    "    coords_1 = (test_data['lat'][i], test_data['long'][i])\n",
    "    \n",
    "    ## Here we gather the lat and long from the ?????\n",
    "    coords_2 = (test_data['merch_lat'][i], test_data['merch_long'][i])\n",
    "    \n",
    "    ## Here we compute the disance in miles between the locations\n",
    "    distance_to_append.append(geopy.distance.geodesic(coords_1, coords_2).miles)\n",
    "\n",
    "## Adding results to our data set\n",
    "test_data['Distance'] = distance_to_append"
   ]
  },
  {
   "cell_type": "code",
   "execution_count": 6,
   "id": "6867ffd6-575b-47d0-85a9-4c75b93d170c",
   "metadata": {},
   "outputs": [
    {
     "data": {
      "text/plain": [
       "0    15.294273\n",
       "1    65.140855\n",
       "2    36.788154\n",
       "3    17.159238\n",
       "4    64.885553\n",
       "Name: Distance, dtype: float64"
      ]
     },
     "execution_count": 6,
     "metadata": {},
     "output_type": "execute_result"
    }
   ],
   "source": [
    "## Visualizing the results\n",
    "test_data['Distance'].head()"
   ]
  },
  {
   "cell_type": "markdown",
   "id": "19a03e69-6afe-4a43-80d9-14b7870f9be6",
   "metadata": {},
   "source": [
    "#### Age"
   ]
  },
  {
   "cell_type": "code",
   "execution_count": 8,
   "id": "6b920b71-6edd-4437-a923-ce4e03b9b635",
   "metadata": {},
   "outputs": [],
   "source": [
    "## Creating empty list to store the resutls\n",
    "ages_to_append = []\n",
    "\n",
    "## Looping through each observation and computing the age of each individual from its DOB\n",
    "for i in range(0,n):\n",
    "    \n",
    "    ## Here we add the last date of this year\n",
    "    year_of_2021 = datetime.strptime('2021-12-31', \"%Y-%m-%d\")\n",
    "    \n",
    "    ## Here we call each DOB in the dataset\n",
    "    dob = datetime.strptime(test_data.dob[i], \"%Y-%m-%d\")\n",
    "    \n",
    "    ## Here we compute the ages\n",
    "    ages_to_append.append(relativedelta(year_of_2021, dob).years)\n",
    "\n",
    "## Adding results to our data set\n",
    "test_data['Age'] = ages_to_append"
   ]
  },
  {
   "cell_type": "code",
   "execution_count": 9,
   "id": "8a601712-9f10-473b-8cff-62169cc56ae9",
   "metadata": {},
   "outputs": [
    {
     "data": {
      "text/plain": [
       "0    53\n",
       "1    31\n",
       "2    51\n",
       "3    34\n",
       "4    66\n",
       "Name: Age, dtype: int64"
      ]
     },
     "execution_count": 9,
     "metadata": {},
     "output_type": "execute_result"
    }
   ],
   "source": [
    "## Visualizing the results\n",
    "test_data['Age'].head()"
   ]
  },
  {
   "cell_type": "markdown",
   "id": "9c585478-98bb-43f4-b996-6bde2830dd6d",
   "metadata": {},
   "source": [
    "#### Day of the week"
   ]
  },
  {
   "cell_type": "code",
   "execution_count": 10,
   "id": "6db8f6f1-1fd9-4260-a1b1-8066876852e9",
   "metadata": {},
   "outputs": [],
   "source": [
    "dates = pd.to_datetime(test_data['trans_date_trans_time'])\n",
    "test_data['DayOfWeek'] = dates.dt.day_name()"
   ]
  },
  {
   "cell_type": "code",
   "execution_count": 11,
   "id": "44cca2c9-069d-44a2-826d-80c0c891e894",
   "metadata": {},
   "outputs": [
    {
     "data": {
      "text/plain": [
       "0    Sunday\n",
       "1    Sunday\n",
       "2    Sunday\n",
       "3    Sunday\n",
       "4    Sunday\n",
       "Name: DayOfWeek, dtype: object"
      ]
     },
     "execution_count": 11,
     "metadata": {},
     "output_type": "execute_result"
    }
   ],
   "source": [
    "test_data['DayOfWeek'].head()"
   ]
  },
  {
   "cell_type": "markdown",
   "id": "ff1ee0af-9a56-41ba-99cc-6ff8d6dd53cd",
   "metadata": {},
   "source": [
    "#### Month of the year"
   ]
  },
  {
   "cell_type": "code",
   "execution_count": 12,
   "id": "3a143ffa-2a11-4fea-9331-583ef7f67e7d",
   "metadata": {},
   "outputs": [],
   "source": [
    "months = pd.to_datetime(test_data['trans_date_trans_time'])\n",
    "test_data['Month'] = dates.dt.month"
   ]
  },
  {
   "cell_type": "markdown",
   "id": "bfd7daff-9372-43c0-ad1d-b88bddaca660",
   "metadata": {},
   "source": [
    "#### Hour of the day"
   ]
  },
  {
   "cell_type": "code",
   "execution_count": 13,
   "id": "70f6e94d-0432-47c3-8591-82badf56d4da",
   "metadata": {},
   "outputs": [],
   "source": [
    "hour_of_the_day = []\n",
    "\n",
    "for i in range(0,n):\n",
    "    hour_of_the_day.append(datetime.strptime(test_data.trans_date_trans_time[i] ,\"%Y-%m-%d %H:%M:%S\").hour)\n",
    "    \n",
    "test_data['HourOfTheDay'] = hour_of_the_day"
   ]
  },
  {
   "cell_type": "code",
   "execution_count": 14,
   "id": "73ee3102-310f-4b0f-9951-b9e905010145",
   "metadata": {},
   "outputs": [
    {
     "data": {
      "text/plain": [
       "0    12\n",
       "1    12\n",
       "2    12\n",
       "3    12\n",
       "4    12\n",
       "Name: HourOfTheDay, dtype: int64"
      ]
     },
     "execution_count": 14,
     "metadata": {},
     "output_type": "execute_result"
    }
   ],
   "source": [
    "test_data['HourOfTheDay'].head()"
   ]
  },
  {
   "cell_type": "markdown",
   "id": "b63e63db-30ab-48b4-87f4-20e53f096779",
   "metadata": {},
   "source": [
    "#### Generating unique ID"
   ]
  },
  {
   "cell_type": "code",
   "execution_count": 16,
   "id": "6593694b-c0b3-45af-bb41-96bee3d1152a",
   "metadata": {},
   "outputs": [
    {
     "data": {
      "text/plain": [
       "6538441737335434       1474\n",
       "4586810168620942       1466\n",
       "4745996322265          1462\n",
       "4587657402165341815    1458\n",
       "2242542703101233       1428\n",
       "                       ... \n",
       "4087542780207162          9\n",
       "4883407061576             9\n",
       "3540416671210051          8\n",
       "4352307151555405069       7\n",
       "4295296907373             6\n",
       "Name: cc_num, Length: 924, dtype: int64"
      ]
     },
     "execution_count": 16,
     "metadata": {},
     "output_type": "execute_result"
    }
   ],
   "source": [
    "test_data['cc_num'].value_counts()"
   ]
  },
  {
   "cell_type": "code",
   "execution_count": 17,
   "id": "bbc1ec57-3ff0-4c43-a51c-b8efb3c8b993",
   "metadata": {
    "tags": []
   },
   "outputs": [],
   "source": [
    "Uses = pd.DataFrame(test_data['cc_num'].value_counts())\n",
    "\n",
    "Uses['cc_number2'] = Uses.index\n",
    "\n",
    "Uses = Uses.reset_index(drop = True)\n",
    "\n",
    "Uses.columns = ['TotalUses','cc_num']\n",
    "\n",
    "test_data = Uses.merge(test_data, on = 'cc_num', how = 'left')"
   ]
  },
  {
   "cell_type": "code",
   "execution_count": 18,
   "id": "9c15f39c-de91-4a71-9b73-ea570f7db0d7",
   "metadata": {},
   "outputs": [
    {
     "data": {
      "text/html": [
       "<div>\n",
       "<style scoped>\n",
       "    .dataframe tbody tr th:only-of-type {\n",
       "        vertical-align: middle;\n",
       "    }\n",
       "\n",
       "    .dataframe tbody tr th {\n",
       "        vertical-align: top;\n",
       "    }\n",
       "\n",
       "    .dataframe thead th {\n",
       "        text-align: right;\n",
       "    }\n",
       "</style>\n",
       "<table border=\"1\" class=\"dataframe\">\n",
       "  <thead>\n",
       "    <tr style=\"text-align: right;\">\n",
       "      <th></th>\n",
       "      <th>TotalUses</th>\n",
       "      <th>cc_num</th>\n",
       "      <th>trans_date_trans_time</th>\n",
       "      <th>merchant</th>\n",
       "      <th>category</th>\n",
       "      <th>amt</th>\n",
       "      <th>first</th>\n",
       "      <th>last</th>\n",
       "      <th>gender</th>\n",
       "      <th>street</th>\n",
       "      <th>...</th>\n",
       "      <th>trans_num</th>\n",
       "      <th>unix_time</th>\n",
       "      <th>merch_lat</th>\n",
       "      <th>merch_long</th>\n",
       "      <th>is_fraud</th>\n",
       "      <th>Distance</th>\n",
       "      <th>Age</th>\n",
       "      <th>DayOfWeek</th>\n",
       "      <th>Month</th>\n",
       "      <th>HourOfTheDay</th>\n",
       "    </tr>\n",
       "  </thead>\n",
       "  <tbody>\n",
       "    <tr>\n",
       "      <th>0</th>\n",
       "      <td>1474</td>\n",
       "      <td>6538441737335434</td>\n",
       "      <td>2020-06-21 12:20:13</td>\n",
       "      <td>fraud_Prosacco LLC</td>\n",
       "      <td>personal_care</td>\n",
       "      <td>5.71</td>\n",
       "      <td>Gina</td>\n",
       "      <td>Grimes</td>\n",
       "      <td>F</td>\n",
       "      <td>444 Robert Mews</td>\n",
       "      <td>...</td>\n",
       "      <td>2d7640ea4f3bcd520a3c33200c393dd8</td>\n",
       "      <td>1371817213</td>\n",
       "      <td>40.508064</td>\n",
       "      <td>-79.615158</td>\n",
       "      <td>0</td>\n",
       "      <td>67.240018</td>\n",
       "      <td>24</td>\n",
       "      <td>Sunday</td>\n",
       "      <td>6</td>\n",
       "      <td>12</td>\n",
       "    </tr>\n",
       "    <tr>\n",
       "      <th>1</th>\n",
       "      <td>1474</td>\n",
       "      <td>6538441737335434</td>\n",
       "      <td>2020-06-21 12:58:07</td>\n",
       "      <td>fraud_Upton PLC</td>\n",
       "      <td>entertainment</td>\n",
       "      <td>48.05</td>\n",
       "      <td>Gina</td>\n",
       "      <td>Grimes</td>\n",
       "      <td>F</td>\n",
       "      <td>444 Robert Mews</td>\n",
       "      <td>...</td>\n",
       "      <td>abc1f238e28693cfe3728856b2aba429</td>\n",
       "      <td>1371819487</td>\n",
       "      <td>41.928491</td>\n",
       "      <td>-80.004966</td>\n",
       "      <td>0</td>\n",
       "      <td>38.522465</td>\n",
       "      <td>24</td>\n",
       "      <td>Sunday</td>\n",
       "      <td>6</td>\n",
       "      <td>12</td>\n",
       "    </tr>\n",
       "    <tr>\n",
       "      <th>2</th>\n",
       "      <td>1474</td>\n",
       "      <td>6538441737335434</td>\n",
       "      <td>2020-06-21 13:09:39</td>\n",
       "      <td>fraud_Little, Gutmann and Lynch</td>\n",
       "      <td>shopping_net</td>\n",
       "      <td>28.94</td>\n",
       "      <td>Gina</td>\n",
       "      <td>Grimes</td>\n",
       "      <td>F</td>\n",
       "      <td>444 Robert Mews</td>\n",
       "      <td>...</td>\n",
       "      <td>88c4b3f91b1381005e54ecf64d47074c</td>\n",
       "      <td>1371820179</td>\n",
       "      <td>41.990632</td>\n",
       "      <td>-79.263948</td>\n",
       "      <td>0</td>\n",
       "      <td>62.996683</td>\n",
       "      <td>24</td>\n",
       "      <td>Sunday</td>\n",
       "      <td>6</td>\n",
       "      <td>13</td>\n",
       "    </tr>\n",
       "    <tr>\n",
       "      <th>3</th>\n",
       "      <td>1474</td>\n",
       "      <td>6538441737335434</td>\n",
       "      <td>2020-06-21 17:07:12</td>\n",
       "      <td>fraud_Hilpert-Conroy</td>\n",
       "      <td>kids_pets</td>\n",
       "      <td>13.11</td>\n",
       "      <td>Gina</td>\n",
       "      <td>Grimes</td>\n",
       "      <td>F</td>\n",
       "      <td>444 Robert Mews</td>\n",
       "      <td>...</td>\n",
       "      <td>166bee6c0e7fd842b6eb81da5c12a6f0</td>\n",
       "      <td>1371834432</td>\n",
       "      <td>41.047152</td>\n",
       "      <td>-79.903460</td>\n",
       "      <td>0</td>\n",
       "      <td>27.283292</td>\n",
       "      <td>24</td>\n",
       "      <td>Sunday</td>\n",
       "      <td>6</td>\n",
       "      <td>17</td>\n",
       "    </tr>\n",
       "    <tr>\n",
       "      <th>4</th>\n",
       "      <td>1474</td>\n",
       "      <td>6538441737335434</td>\n",
       "      <td>2020-06-21 17:20:32</td>\n",
       "      <td>fraud_Thompson-Gleason</td>\n",
       "      <td>health_fitness</td>\n",
       "      <td>2.53</td>\n",
       "      <td>Gina</td>\n",
       "      <td>Grimes</td>\n",
       "      <td>F</td>\n",
       "      <td>444 Robert Mews</td>\n",
       "      <td>...</td>\n",
       "      <td>a3b45b42a2f2d4bf3672b0602985832b</td>\n",
       "      <td>1371835232</td>\n",
       "      <td>40.483045</td>\n",
       "      <td>-80.850283</td>\n",
       "      <td>0</td>\n",
       "      <td>71.572094</td>\n",
       "      <td>24</td>\n",
       "      <td>Sunday</td>\n",
       "      <td>6</td>\n",
       "      <td>17</td>\n",
       "    </tr>\n",
       "  </tbody>\n",
       "</table>\n",
       "<p>5 rows × 28 columns</p>\n",
       "</div>"
      ],
      "text/plain": [
       "   TotalUses            cc_num trans_date_trans_time  \\\n",
       "0       1474  6538441737335434   2020-06-21 12:20:13   \n",
       "1       1474  6538441737335434   2020-06-21 12:58:07   \n",
       "2       1474  6538441737335434   2020-06-21 13:09:39   \n",
       "3       1474  6538441737335434   2020-06-21 17:07:12   \n",
       "4       1474  6538441737335434   2020-06-21 17:20:32   \n",
       "\n",
       "                          merchant        category    amt first    last  \\\n",
       "0               fraud_Prosacco LLC   personal_care   5.71  Gina  Grimes   \n",
       "1                  fraud_Upton PLC   entertainment  48.05  Gina  Grimes   \n",
       "2  fraud_Little, Gutmann and Lynch    shopping_net  28.94  Gina  Grimes   \n",
       "3             fraud_Hilpert-Conroy       kids_pets  13.11  Gina  Grimes   \n",
       "4           fraud_Thompson-Gleason  health_fitness   2.53  Gina  Grimes   \n",
       "\n",
       "  gender           street  ...                         trans_num   unix_time  \\\n",
       "0      F  444 Robert Mews  ...  2d7640ea4f3bcd520a3c33200c393dd8  1371817213   \n",
       "1      F  444 Robert Mews  ...  abc1f238e28693cfe3728856b2aba429  1371819487   \n",
       "2      F  444 Robert Mews  ...  88c4b3f91b1381005e54ecf64d47074c  1371820179   \n",
       "3      F  444 Robert Mews  ...  166bee6c0e7fd842b6eb81da5c12a6f0  1371834432   \n",
       "4      F  444 Robert Mews  ...  a3b45b42a2f2d4bf3672b0602985832b  1371835232   \n",
       "\n",
       "   merch_lat  merch_long  is_fraud   Distance Age DayOfWeek Month  \\\n",
       "0  40.508064  -79.615158         0  67.240018  24    Sunday     6   \n",
       "1  41.928491  -80.004966         0  38.522465  24    Sunday     6   \n",
       "2  41.990632  -79.263948         0  62.996683  24    Sunday     6   \n",
       "3  41.047152  -79.903460         0  27.283292  24    Sunday     6   \n",
       "4  40.483045  -80.850283         0  71.572094  24    Sunday     6   \n",
       "\n",
       "   HourOfTheDay  \n",
       "0            12  \n",
       "1            12  \n",
       "2            13  \n",
       "3            17  \n",
       "4            17  \n",
       "\n",
       "[5 rows x 28 columns]"
      ]
     },
     "execution_count": 18,
     "metadata": {},
     "output_type": "execute_result"
    }
   ],
   "source": [
    "test_data.head()"
   ]
  },
  {
   "cell_type": "code",
   "execution_count": 64,
   "id": "d1c567fd-8728-476e-a650-2bc4accaa116",
   "metadata": {},
   "outputs": [
    {
     "data": {
      "text/plain": [
       "cc_num               Month\n",
       "60416207185          10       678\n",
       "60422928733          10       669\n",
       "60423098130          12       228\n",
       "60427851591          12       215\n",
       "60487002085          12       239\n",
       "                             ... \n",
       "4958589671582726883  10       715\n",
       "4973530368125489546  12       427\n",
       "4980323467523543940  12       204\n",
       "4989847570577635369  12       464\n",
       "4992346398065154184  9        863\n",
       "Name: Month, Length: 930, dtype: int64"
      ]
     },
     "execution_count": 64,
     "metadata": {},
     "output_type": "execute_result"
    }
   ],
   "source": [
    "test_data.groupby('cc_num')['Month'].value_counts()"
   ]
  },
  {
   "cell_type": "code",
   "execution_count": 67,
   "id": "899db52b-f2a1-48c2-ac02-a17266cf553e",
   "metadata": {},
   "outputs": [
    {
     "data": {
      "text/plain": [
       "cc_num               DayOfWeek\n",
       "60416207185          Tuesday      156\n",
       "                     Monday       132\n",
       "                     Sunday       100\n",
       "                     Friday        84\n",
       "                     Saturday      79\n",
       "                                 ... \n",
       "4992346398065154184  Sunday       139\n",
       "                     Friday        99\n",
       "                     Saturday      99\n",
       "                     Thursday      84\n",
       "                     Wednesday     71\n",
       "Name: DayOfWeek, Length: 6387, dtype: int64"
      ]
     },
     "execution_count": 67,
     "metadata": {},
     "output_type": "execute_result"
    }
   ],
   "source": [
    "test_data.groupby('cc_num')['DayOfWeek'].value_counts()"
   ]
  },
  {
   "cell_type": "code",
   "execution_count": 68,
   "id": "d5ba0434-c2a4-4eb8-9a9f-4942ce383c1f",
   "metadata": {},
   "outputs": [
    {
     "data": {
      "text/plain": [
       "cc_num               HourOfTheDay\n",
       "60416207185          21              59\n",
       "                     12              43\n",
       "                     17              42\n",
       "                     13              41\n",
       "                     16              41\n",
       "                                     ..\n",
       "4992346398065154184  21              33\n",
       "                     23              33\n",
       "                     7               32\n",
       "                     0               28\n",
       "                     11              27\n",
       "Name: HourOfTheDay, Length: 21862, dtype: int64"
      ]
     },
     "execution_count": 68,
     "metadata": {},
     "output_type": "execute_result"
    }
   ],
   "source": [
    "test_data.groupby('cc_num')['HourOfTheDay'].value_counts()"
   ]
  },
  {
   "cell_type": "code",
   "execution_count": 69,
   "id": "eb13df9b-64f7-4b44-a4c9-81e3b450c92d",
   "metadata": {},
   "outputs": [
    {
     "data": {
      "text/plain": [
       "cc_num\n",
       "60416207185            45.272277\n",
       "60422928733            48.877257\n",
       "60423098130            49.139031\n",
       "60427851591            47.827485\n",
       "60487002085            49.268812\n",
       "                         ...    \n",
       "4958589671582726883    47.400251\n",
       "4973530368125489546    48.326195\n",
       "4980323467523543940    43.445894\n",
       "4989847570577635369    47.186455\n",
       "4992346398065154184    47.424892\n",
       "Name: Distances, Length: 924, dtype: float64"
      ]
     },
     "execution_count": 69,
     "metadata": {},
     "output_type": "execute_result"
    }
   ],
   "source": [
    "test_data.groupby('cc_num')['Distance'].mean()"
   ]
  },
  {
   "cell_type": "code",
   "execution_count": null,
   "id": "547669f1-3158-4bf3-af22-460249cb6553",
   "metadata": {},
   "outputs": [],
   "source": []
  },
  {
   "cell_type": "code",
   "execution_count": null,
   "id": "86c0d179-37a5-4162-b26a-35cff316f39d",
   "metadata": {},
   "outputs": [],
   "source": []
  },
  {
   "cell_type": "code",
   "execution_count": 21,
   "id": "9fbd19be-1e6b-468e-8464-d946ef092423",
   "metadata": {},
   "outputs": [],
   "source": [
    "## Here we export the file containing all of the new feature to a csv file. \n",
    "test_data.to_csv (\"/Users/gabrielmedeiros/Documents/OneDrive/Business analytics/DATA_445_Machine_Learning/FraudTestData.csv\", index = None, header=True)"
   ]
  },
  {
   "cell_type": "markdown",
   "id": "b91510ef-31a6-4a63-83fa-e112101e6a1d",
   "metadata": {},
   "source": [
    "#### Should we perform some modeling tests on a data set with the engineered features, and a few tests in the data set without the engineered features? "
   ]
  }
 ],
 "metadata": {
  "kernelspec": {
   "display_name": "Python 3",
   "language": "python",
   "name": "python3"
  },
  "language_info": {
   "codemirror_mode": {
    "name": "ipython",
    "version": 3
   },
   "file_extension": ".py",
   "mimetype": "text/x-python",
   "name": "python",
   "nbconvert_exporter": "python",
   "pygments_lexer": "ipython3",
   "version": "3.8.8"
  },
  "toc-autonumbering": false,
  "toc-showcode": false,
  "toc-showmarkdowntxt": false
 },
 "nbformat": 4,
 "nbformat_minor": 5
}
